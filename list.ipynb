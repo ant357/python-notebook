{
 "cells": [
  {
   "cell_type": "code",
   "execution_count": null,
   "id": "a1888c4a",
   "metadata": {},
   "outputs": [],
   "source": [
    "mylist=[\"apple\",\"banana\",\"cherry\"]\n",
    "print(mylist)\n",
    "thislist=list((\"apple\",\"banana\",\"cherry\"))\n",
    "print(thislist)\n",
    "print(len(thislist))"
   ]
  },
  {
   "cell_type": "code",
   "execution_count": null,
   "id": "ffb40c59",
   "metadata": {},
   "outputs": [],
   "source": [
    "list1=[\"apple\",\"banana\",\"cherry\"]\n",
    "print(type(mylist))"
   ]
  },
  {
   "cell_type": "code",
   "execution_count": null,
   "id": "dcd1140c",
   "metadata": {},
   "outputs": [],
   "source": [
    "list1=[\"a\",\"b\",\"c\"]\n",
    "list2=[1,2,3]\n",
    "list4=list2*2\n",
    "print(list4)\n",
    "list3=list1+list2\n",
    "print(list3)\n"
   ]
  },
  {
   "cell_type": "code",
   "execution_count": null,
   "id": "04979175",
   "metadata": {},
   "outputs": [],
   "source": [
    "list=[\"apple\",\"banana\",\"cherry\"]\n",
    "list2=[1,5,7,9,3]\n",
    "list3=[True,False,True]\n",
    "print(list1)\n",
    "print(list2)\n",
    "print(list3)"
   ]
  },
  {
   "cell_type": "code",
   "execution_count": null,
   "id": "9c10a4f5",
   "metadata": {},
   "outputs": [],
   "source": [
    "list1=['physics','chemistry',1997,2000];\n",
    "list2=[1,2,3,4,5,6,7,8,9]\n",
    "print (\"list1[0]:\",list1[0])\n",
    "print (\"list2[1:5]:\",list2[1:5])"
   ]
  },
  {
   "cell_type": "code",
   "execution_count": null,
   "id": "4e209f3e",
   "metadata": {},
   "outputs": [],
   "source": [
    "list=['physics','chemistry',1997,2000];\n",
    "print(list[2])\n",
    "list[2]=2001\n",
    "print(list[2])"
   ]
  },
  {
   "cell_type": "code",
   "execution_count": null,
   "id": "b04429a1",
   "metadata": {},
   "outputs": [],
   "source": [
    "del list2[2]\n",
    "print(list2)"
   ]
  },
  {
   "cell_type": "code",
   "execution_count": null,
   "id": "c434cc2d",
   "metadata": {},
   "outputs": [],
   "source": [
    "list1=['physics','chemistry',1997,2000];\n",
    "list2=[1,2,3,4,5,6,7,8,9]\n",
    "print(\"list[0]\",list2[0])\n",
    "print(\"list2[-2]\",list2[-2:])\n",
    "print (\"list2[2:]:\",list2[2:])\n",
    "print (\"list2[:2]:\",list2[:2])"
   ]
  },
  {
   "cell_type": "code",
   "execution_count": null,
   "id": "005a71f5",
   "metadata": {},
   "outputs": [],
   "source": [
    "thislist= [\"apple\",\"banana\",\"cherry\"]\n",
    "for x in thislist:\n",
    "    print(x)"
   ]
  },
  {
   "cell_type": "code",
   "execution_count": null,
   "id": "5db5ab26",
   "metadata": {},
   "outputs": [],
   "source": [
    "thislist= [\"apple\",\"banana\",\"cherry\"]\n",
    "for i in range(len(thislist)):\n",
    "    print(thislist[i])"
   ]
  },
  {
   "cell_type": "code",
   "execution_count": null,
   "id": "382c2fc3",
   "metadata": {},
   "outputs": [],
   "source": [
    "thislist= [\"apple\",\"banana\",\"cherry\"]\n",
    "i=0\n",
    "while(i<len(thislist)):\n",
    "    print(thislist[i])\n",
    "    i=i+1\n",
    "    print(i)"
   ]
  },
  {
   "cell_type": "code",
   "execution_count": null,
   "id": "882079da",
   "metadata": {},
   "outputs": [],
   "source": [
    "list1 =[\"a\",\"b\",\"c\"]\n",
    "list2=[1,2,3]\n",
    "for x in list2:\n",
    "    list1.append(x)\n",
    "    print(list1)"
   ]
  },
  {
   "cell_type": "code",
   "execution_count": null,
   "id": "e48f0ca4",
   "metadata": {},
   "outputs": [],
   "source": [
    "fruits =[\"apple\",\"banana\",\"cherry,\",\"kiwi\",\"mango\"]\n",
    "newlist=[x for x in range(10)]\n",
    "newlist2=[x for x in range(10) if x<5]\n",
    "newlist3=[x.upper() for x in fruits]\n",
    "print(newlist,newlist2,newlist3)\n",
    "newlist=[x.upper() for x in fruits]\n",
    "newlist=['hello' for x in fruits]\n",
    "newlist=[x if x !=\"banana\"else \"orange\" for x in fruits]"
   ]
  },
  {
   "cell_type": "code",
   "execution_count": null,
   "id": "5df1c560",
   "metadata": {},
   "outputs": [],
   "source": [
    "fruits =[\"apple\",\"banana\",\"cherry,\",\"kiwi\",\"mango\"]\n",
    "newlist=[x for x in fruits if \"a\" in x]\n",
    "print(newlist)"
   ]
  },
  {
   "cell_type": "code",
   "execution_count": null,
   "id": "f9b650bd",
   "metadata": {},
   "outputs": [],
   "source": [
    "list=['python','.NET']\n",
    "list.append(\"java\")\n",
    "print(\"\\n\",list)\n",
    "list.extend(['c','c#'])\n",
    "print(\"\\n\",list)\n",
    "list.insert(1,'c')\n",
    "print(\"\\n\",list)\n",
    "list.remove('c')\n",
    "print(\"\\n\",list)\n",
    "print(\"\\n\",sorted(list))\n",
    "print(\"\\n\",list[::-1])"
   ]
  },
  {
   "cell_type": "code",
   "execution_count": null,
   "id": "aa1ff574",
   "metadata": {},
   "outputs": [],
   "source": [
    "tuple=(\"apple\",\"banana\",\"cherry\",\"orange\",\"kiwi\",\"melon\",\"mango\")\n",
    "tuple2=(1,2,3,4,5)\n",
    "tuple3=(\"a\",\"b\",\"c\",\"d\")\n",
    "print(tuple[1:3])\n",
    "print(tuple[2:])\n",
    "print(tuple[-4:-1])"
   ]
  },
  {
   "cell_type": "code",
   "execution_count": null,
   "id": "9c922485",
   "metadata": {},
   "outputs": [],
   "source": [
    "if \"apple\" in tuple:\n",
    "    print(\"yes\")"
   ]
  },
  {
   "cell_type": "code",
   "execution_count": null,
   "id": "e909c87b",
   "metadata": {},
   "outputs": [],
   "source": [
    "for x in tuple:\n",
    "    print(x)"
   ]
  },
  {
   "cell_type": "code",
   "execution_count": null,
   "id": "78d104a5",
   "metadata": {},
   "outputs": [],
   "source": [
    "for i in range(len(tuple)):\n",
    "    print(tuple[i])\n",
    "    "
   ]
  },
  {
   "cell_type": "code",
   "execution_count": null,
   "id": "2a9c7300",
   "metadata": {},
   "outputs": [],
   "source": [
    "for i in range(0,2):\n",
    "    print(tuple[i])"
   ]
  },
  {
   "cell_type": "code",
   "execution_count": null,
   "id": "bd29e2ae",
   "metadata": {},
   "outputs": [],
   "source": [
    "x=(\"apple\",\"banana\",\"cherry\")\n",
    "y=list(x)\n",
    "y[1]=\"kiwi\"\n",
    "x=tuple(y)\n",
    "print(x)"
   ]
  },
  {
   "cell_type": "code",
   "execution_count": null,
   "id": "d9cd78e5",
   "metadata": {},
   "outputs": [],
   "source": [
    "tuple=(\"apple\",\"banana\",\"cherry\")\n",
    "y=(\"orange\",)\n",
    "tuple += y\n",
    "print(tuple)"
   ]
  },
  {
   "cell_type": "code",
   "execution_count": null,
   "id": "1c41e57f",
   "metadata": {},
   "outputs": [],
   "source": [
    "tupl=(\"apple\",\"banana\",\"cherry\")\n",
    "y=list(tupl)\n",
    "y.remove(\"apple\")\n",
    "tupl = tuple(y)\n",
    "print(tupl)"
   ]
  },
  {
   "cell_type": "code",
   "execution_count": null,
   "id": "4849b51a",
   "metadata": {},
   "outputs": [],
   "source": [
    "set1={\"apple\",\"banana\",\"cherry\"}\n",
    "set2={1,5,7,9,3}\n",
    "set3={True,False,True}\n",
    "print(set1,set2,set3)"
   ]
  },
  {
   "cell_type": "code",
   "execution_count": null,
   "id": "40828d09",
   "metadata": {},
   "outputs": [],
   "source": [
    "print(type(set1))\n"
   ]
  },
  {
   "cell_type": "code",
   "execution_count": null,
   "id": "6f7ee860",
   "metadata": {},
   "outputs": [],
   "source": [
    "thisset=set((\"apple\",\"banana\",\"cherry\"))\n",
    "print(thisset)"
   ]
  },
  {
   "cell_type": "code",
   "execution_count": null,
   "id": "d50a3bf5",
   "metadata": {},
   "outputs": [],
   "source": [
    "for x in thisset:\n",
    "    print(x)"
   ]
  },
  {
   "cell_type": "code",
   "execution_count": null,
   "id": "100443f7",
   "metadata": {},
   "outputs": [],
   "source": [
    "print(\"banana\" in thisset)"
   ]
  },
  {
   "cell_type": "code",
   "execution_count": 2,
   "id": "7d7d0cda",
   "metadata": {},
   "outputs": [
    {
     "ename": "NameError",
     "evalue": "name 'thisset' is not defined",
     "output_type": "error",
     "traceback": [
      "\u001b[1;31m---------------------------------------------------------------------------\u001b[0m",
      "\u001b[1;31mNameError\u001b[0m                                 Traceback (most recent call last)",
      "Input \u001b[1;32mIn [2]\u001b[0m, in \u001b[0;36m<cell line: 1>\u001b[1;34m()\u001b[0m\n\u001b[1;32m----> 1\u001b[0m \u001b[43mthisset\u001b[49m\u001b[38;5;241m.\u001b[39madd(\u001b[38;5;124m\"\u001b[39m\u001b[38;5;124morange\u001b[39m\u001b[38;5;124m\"\u001b[39m)\n\u001b[0;32m      2\u001b[0m \u001b[38;5;28mprint\u001b[39m(thisset)\n",
      "\u001b[1;31mNameError\u001b[0m: name 'thisset' is not defined"
     ]
    }
   ],
   "source": [
    "thisset.add(\"orange\")\n",
    "print(thisset)"
   ]
  },
  {
   "cell_type": "code",
   "execution_count": null,
   "id": "80814f7b",
   "metadata": {},
   "outputs": [],
   "source": [
    "tropical={\"pineapple\",\"mango\",\"papaya\"}\n",
    "thisset.update(tropical)\n",
    "print(thisset)"
   ]
  },
  {
   "cell_type": "code",
   "execution_count": null,
   "id": "3b3556ae",
   "metadata": {},
   "outputs": [],
   "source": [
    "mylist=[\"kiwi\",\"orange\"]\n",
    "thisset.update(mylist)\n",
    "print(thisset)"
   ]
  },
  {
   "cell_type": "code",
   "execution_count": null,
   "id": "67d8e209",
   "metadata": {},
   "outputs": [],
   "source": [
    "x=thisset.pop()\n",
    "print(x)\n",
    "print(thisset)"
   ]
  },
  {
   "cell_type": "code",
   "execution_count": null,
   "id": "afbbc6c0",
   "metadata": {},
   "outputs": [],
   "source": [
    "thisset.clear()\n",
    "print(thisset)"
   ]
  },
  {
   "cell_type": "code",
   "execution_count": 2,
   "id": "98d4a8ef",
   "metadata": {},
   "outputs": [
    {
     "name": "stdout",
     "output_type": "stream",
     "text": [
      "empty\n"
     ]
    }
   ],
   "source": [
    "set1={\"apple\",\"banana\",\"cherry\"}\n",
    "del set1\n",
    "print(\"empty\")"
   ]
  },
  {
   "cell_type": "code",
   "execution_count": 4,
   "id": "a0b0c83b",
   "metadata": {},
   "outputs": [],
   "source": [
    "def compare_to_five(y):\n",
    "    if y>5:\n",
    "        return \"Greater\"\n",
    "    elif y<5:\n",
    "        return \"Less\"\n",
    "    else:\n",
    "        return \"Equal\""
   ]
  },
  {
   "cell_type": "code",
   "execution_count": 5,
   "id": "fbed1d5f",
   "metadata": {},
   "outputs": [
    {
     "name": "stdout",
     "output_type": "stream",
     "text": [
      "Greater\n"
     ]
    }
   ],
   "source": [
    "print(compare_to_five(10))"
   ]
  },
  {
   "cell_type": "code",
   "execution_count": 6,
   "id": "aaa9ac8c",
   "metadata": {},
   "outputs": [
    {
     "name": "stdout",
     "output_type": "stream",
     "text": [
      "Less\n"
     ]
    }
   ],
   "source": [
    "print(compare_to_five(2))"
   ]
  },
  {
   "cell_type": "code",
   "execution_count": 7,
   "id": "a0fde5fd",
   "metadata": {},
   "outputs": [
    {
     "name": "stdout",
     "output_type": "stream",
     "text": [
      "Equal\n"
     ]
    }
   ],
   "source": [
    "print(compare_to_five(5))"
   ]
  },
  {
   "cell_type": "code",
   "execution_count": 33,
   "id": "e957dee5",
   "metadata": {},
   "outputs": [],
   "source": [
    "def compare_to_five(y):\n",
    "    if y>5:\n",
    "        return \"Greater\"\n",
    "    elif y<5:\n",
    "        return \"Less\"\n",
    "    elif y<0:\n",
    "        return \"Negative\"\n",
    "    else:\n",
    "        return \"Equal\""
   ]
  },
  {
   "cell_type": "code",
   "execution_count": 32,
   "id": "a039c930",
   "metadata": {},
   "outputs": [
    {
     "name": "stdout",
     "output_type": "stream",
     "text": [
      "Less\n"
     ]
    }
   ],
   "source": [
    "print(compare_to_five(-3))"
   ]
  },
  {
   "cell_type": "code",
   "execution_count": 29,
   "id": "5fd64d44",
   "metadata": {},
   "outputs": [
    {
     "name": "stdout",
     "output_type": "stream",
     "text": [
      "Less\n"
     ]
    }
   ],
   "source": [
    "print(compare_to_five(3))"
   ]
  },
  {
   "cell_type": "code",
   "execution_count": 30,
   "id": "15e4988f",
   "metadata": {},
   "outputs": [
    {
     "name": "stdout",
     "output_type": "stream",
     "text": [
      "Greater\n"
     ]
    }
   ],
   "source": [
    "print(compare_to_five(10))"
   ]
  },
  {
   "cell_type": "code",
   "execution_count": 31,
   "id": "c1293f10",
   "metadata": {},
   "outputs": [
    {
     "name": "stdout",
     "output_type": "stream",
     "text": [
      "Equal\n"
     ]
    }
   ],
   "source": [
    "print(compare_to_five(5))"
   ]
  },
  {
   "cell_type": "code",
   "execution_count": null,
   "id": "44ffed06",
   "metadata": {},
   "outputs": [],
   "source": []
  },
  {
   "cell_type": "code",
   "execution_count": null,
   "id": "6a9dbc4b",
   "metadata": {},
   "outputs": [],
   "source": []
  }
 ],
 "metadata": {
  "kernelspec": {
   "display_name": "Python 3 (ipykernel)",
   "language": "python",
   "name": "python3"
  },
  "language_info": {
   "codemirror_mode": {
    "name": "ipython",
    "version": 3
   },
   "file_extension": ".py",
   "mimetype": "text/x-python",
   "name": "python",
   "nbconvert_exporter": "python",
   "pygments_lexer": "ipython3",
   "version": "3.9.12"
  }
 },
 "nbformat": 4,
 "nbformat_minor": 5
}
