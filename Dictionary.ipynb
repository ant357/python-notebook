{
 "cells": [
  {
   "cell_type": "code",
   "execution_count": null,
   "id": "3df3aed9",
   "metadata": {},
   "outputs": [],
   "source": []
  },
  {
   "cell_type": "code",
   "execution_count": null,
   "id": "d5c77074",
   "metadata": {},
   "outputs": [],
   "source": [
    "car={\"brand\":\"Ford\",\n",
    "     \"model\":\"mustang\",\n",
    "     \"year\": 1964,\n",
    "     \"color\":[\"red\",\"ccc\"]\n",
    "    }\n",
    "car"
   ]
  },
  {
   "cell_type": "code",
   "execution_count": 1,
   "id": "e6206eaa",
   "metadata": {},
   "outputs": [
    {
     "name": "stdout",
     "output_type": "stream",
     "text": [
      "{1: 'apple', 2: 'ball'} {'name': 'john', 1: [2, 3, 4]} {1: 'apple', 2: 'ball'} {1: 'apple', 2: 'ball'}\n"
     ]
    }
   ],
   "source": [
    "dic={}\n",
    "dict1={1:'apple',2: 'ball'}\n",
    "dict2={'name':'john',1:[2,3,4]}\n",
    "dict3=dict({1:\"apple\",2:\"ball\"})\n",
    "dict4=dict([(1,'apple'),(2,'ball')])\n",
    "print(dict1,dict2,dict3,dict4)"
   ]
  },
  {
   "cell_type": "code",
   "execution_count": 4,
   "id": "5c36a5b1",
   "metadata": {},
   "outputs": [
    {
     "ename": "SyntaxError",
     "evalue": "invalid syntax (2186286799.py, line 5)",
     "output_type": "error",
     "traceback": [
      "\u001b[1;36m  Input \u001b[1;32mIn [4]\u001b[1;36m\u001b[0m\n\u001b[1;33m    squares[x]=\u001b[0m\n\u001b[1;37m               ^\u001b[0m\n\u001b[1;31mSyntaxError\u001b[0m\u001b[1;31m:\u001b[0m invalid syntax\n"
     ]
    }
   ],
   "source": [
    "squares={x: x*x for x in range(6)}\n",
    "print(squares)\n",
    "squares={}\n",
    "for x in range(6):\n",
    "    squares[x]="
   ]
  },
  {
   "cell_type": "code",
   "execution_count": 3,
   "id": "c800e325",
   "metadata": {},
   "outputs": [
    {
     "name": "stdout",
     "output_type": "stream",
     "text": [
      "{'math': 0, 'english': 0, 'science': 0}\n",
      "('math', 0)\n",
      "('english', 0)\n",
      "('science', 0)\n",
      "['english', 'math', 'science']\n"
     ]
    }
   ],
   "source": [
    "marks={}.fromkeys(['math','english','science'],0)\n",
    "print(marks)\n",
    "for item in marks.items():\n",
    "    print(item)\n",
    "print(list(sorted(marks.keys())))    "
   ]
  },
  {
   "cell_type": "code",
   "execution_count": 8,
   "id": "df5df553",
   "metadata": {},
   "outputs": [
    {
     "name": "stdout",
     "output_type": "stream",
     "text": [
      "{'name': 'Dionysia', 'age': 28}\n"
     ]
    }
   ],
   "source": [
    "my_information= {'name':'Dionysia','age':28, 'location':'Athens'}\n",
    "city=my_information.pop('location')\n",
    "print(my_information)\n"
   ]
  },
  {
   "cell_type": "code",
   "execution_count": 10,
   "id": "e5262ce6",
   "metadata": {},
   "outputs": [
    {
     "name": "stdout",
     "output_type": "stream",
     "text": [
      "{'child1': {'name': 'emi', 'year': 2004}, 'child2': {'name': 'tob', 'year': 2009}, 'child3': {'name': 'lin', 'year': 2011}}\n"
     ]
    }
   ],
   "source": [
    "dic={\n",
    "    \"child1\":{\n",
    "        \"name\": \"emi\",\n",
    "        \"year\": 2004\n",
    "        },\n",
    "    \"child2\":{\n",
    "        \"name\": \"tob\",\n",
    "        \"year\":2009\n",
    "    },\n",
    "    \"child3\":{\n",
    "        \"name\":\"lin\",\n",
    "        \"year\":2011\n",
    "    }\n",
    "}\n",
    "print(dic)"
   ]
  },
  {
   "cell_type": "code",
   "execution_count": null,
   "id": "507f1360",
   "metadata": {},
   "outputs": [],
   "source": []
  }
 ],
 "metadata": {
  "kernelspec": {
   "display_name": "Python 3 (ipykernel)",
   "language": "python",
   "name": "python3"
  },
  "language_info": {
   "codemirror_mode": {
    "name": "ipython",
    "version": 3
   },
   "file_extension": ".py",
   "mimetype": "text/x-python",
   "name": "python",
   "nbconvert_exporter": "python",
   "pygments_lexer": "ipython3",
   "version": "3.9.12"
  }
 },
 "nbformat": 4,
 "nbformat_minor": 5
}
