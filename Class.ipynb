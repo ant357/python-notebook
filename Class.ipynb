{
 "cells": [
  {
   "cell_type": "code",
   "execution_count": 1,
   "id": "49db8804",
   "metadata": {},
   "outputs": [],
   "source": [
    "str_1= \"Hello Python\""
   ]
  },
  {
   "cell_type": "code",
   "execution_count": 2,
   "id": "f93274f9",
   "metadata": {},
   "outputs": [
    {
     "data": {
      "text/plain": [
       "'Hello Python'"
      ]
     },
     "execution_count": 2,
     "metadata": {},
     "output_type": "execute_result"
    }
   ],
   "source": [
    "str_1"
   ]
  },
  {
   "cell_type": "code",
   "execution_count": 5,
   "id": "9436a23e",
   "metadata": {},
   "outputs": [],
   "source": [
    "str_3=str_1*3"
   ]
  },
  {
   "cell_type": "code",
   "execution_count": 6,
   "id": "9a466021",
   "metadata": {},
   "outputs": [
    {
     "data": {
      "text/plain": [
       "'Hello PythonHello PythonHello Python'"
      ]
     },
     "execution_count": 6,
     "metadata": {},
     "output_type": "execute_result"
    }
   ],
   "source": [
    "str_3"
   ]
  },
  {
   "cell_type": "code",
   "execution_count": 7,
   "id": "1adb0a00",
   "metadata": {},
   "outputs": [
    {
     "data": {
      "text/plain": [
       "'HelloWorld'"
      ]
     },
     "execution_count": 7,
     "metadata": {},
     "output_type": "execute_result"
    }
   ],
   "source": [
    "str_2=\"Hello\"+\"World\"\n",
    "str_2"
   ]
  },
  {
   "cell_type": "code",
   "execution_count": 8,
   "id": "6f8b769d",
   "metadata": {},
   "outputs": [],
   "source": [
    "str_4=\"1 2 3 4 5\"\n"
   ]
  },
  {
   "cell_type": "code",
   "execution_count": 9,
   "id": "71069127",
   "metadata": {},
   "outputs": [
    {
     "data": {
      "text/plain": [
       "['1', '2', '3', '4', '5']"
      ]
     },
     "execution_count": 9,
     "metadata": {},
     "output_type": "execute_result"
    }
   ],
   "source": [
    "str_4.split()"
   ]
  },
  {
   "cell_type": "code",
   "execution_count": 10,
   "id": "4dc40723",
   "metadata": {},
   "outputs": [
    {
     "data": {
      "text/plain": [
       "['1', '2', '3', '4', '5']"
      ]
     },
     "execution_count": 10,
     "metadata": {},
     "output_type": "execute_result"
    }
   ],
   "source": [
    "str_5=\"1,2,3,4,5\"\n",
    "str_5.split(\",\")"
   ]
  },
  {
   "cell_type": "code",
   "execution_count": 11,
   "id": "c6a7b4ba",
   "metadata": {},
   "outputs": [
    {
     "data": {
      "text/plain": [
       "'1 , 2 , 3 , 4 , 5'"
      ]
     },
     "execution_count": 11,
     "metadata": {},
     "output_type": "execute_result"
    }
   ],
   "source": [
    "str_6=\" \"\n",
    "str_6.join(str_5)"
   ]
  },
  {
   "cell_type": "code",
   "execution_count": 12,
   "id": "c521ee96",
   "metadata": {},
   "outputs": [
    {
     "data": {
      "text/plain": [
       "'Hello World'"
      ]
     },
     "execution_count": 12,
     "metadata": {},
     "output_type": "execute_result"
    }
   ],
   "source": [
    "str_1.replace(\"Python\",\"World\")"
   ]
  },
  {
   "cell_type": "code",
   "execution_count": 13,
   "id": "34e796dd",
   "metadata": {},
   "outputs": [
    {
     "data": {
      "text/plain": [
       "'HELLO PYTHON'"
      ]
     },
     "execution_count": 13,
     "metadata": {},
     "output_type": "execute_result"
    }
   ],
   "source": [
    "str_1.upper()"
   ]
  },
  {
   "cell_type": "code",
   "execution_count": 14,
   "id": "c2aaa094",
   "metadata": {},
   "outputs": [
    {
     "data": {
      "text/plain": [
       "'Hello PythonHello PythonHello Python'"
      ]
     },
     "execution_count": 14,
     "metadata": {},
     "output_type": "execute_result"
    }
   ],
   "source": [
    "str_3.lstrip()"
   ]
  },
  {
   "cell_type": "code",
   "execution_count": 15,
   "id": "22dd6106",
   "metadata": {},
   "outputs": [
    {
     "data": {
      "text/plain": [
       "'Hello PythonHello PythonHello Python'"
      ]
     },
     "execution_count": 15,
     "metadata": {},
     "output_type": "execute_result"
    }
   ],
   "source": [
    "str_3.rstrip()"
   ]
  },
  {
   "cell_type": "code",
   "execution_count": 16,
   "id": "3554f6e3",
   "metadata": {},
   "outputs": [],
   "source": [
    "str_4=\"Hello python!\""
   ]
  },
  {
   "cell_type": "code",
   "execution_count": 17,
   "id": "23d2a3ff",
   "metadata": {},
   "outputs": [
    {
     "name": "stdout",
     "output_type": "stream",
     "text": [
      "True\n"
     ]
    }
   ],
   "source": [
    "txt=\"The best things in life are free!\"\n",
    "print(\"free\" in txt)"
   ]
  },
  {
   "cell_type": "code",
   "execution_count": 18,
   "id": "da44a45e",
   "metadata": {},
   "outputs": [
    {
     "name": "stdout",
     "output_type": "stream",
     "text": [
      "Yes, 'free is present'\n"
     ]
    }
   ],
   "source": [
    "if \"free\" in txt:\n",
    "    print(\"Yes, 'free is present'\")"
   ]
  },
  {
   "cell_type": "code",
   "execution_count": 19,
   "id": "896e1b94",
   "metadata": {},
   "outputs": [
    {
     "name": "stdout",
     "output_type": "stream",
     "text": [
      "True\n"
     ]
    }
   ],
   "source": [
    "print(\"expensive\" not in txt)"
   ]
  },
  {
   "cell_type": "code",
   "execution_count": 23,
   "id": "dca06967",
   "metadata": {},
   "outputs": [
    {
     "name": "stdout",
     "output_type": "stream",
     "text": [
      "No,'expensive' is NOT present.\n"
     ]
    }
   ],
   "source": [
    "if \"expensive\" not in txt:\n",
    "    print(\"No,'expensive' is NOT present.\")"
   ]
  },
  {
   "cell_type": "code",
   "execution_count": 25,
   "id": "2424147d",
   "metadata": {},
   "outputs": [
    {
     "name": "stdout",
     "output_type": "stream",
     "text": [
      "llo\n",
      "Hello\n",
      "llo, world\n",
      "wor\n"
     ]
    }
   ],
   "source": [
    "b=\"Hello, world\"\n",
    "print(b[2:5])\n",
    "b1=\"Hello, world\"\n",
    "print(b1[:5])\n",
    "b3=\"Hello, world\"\n",
    "print(b1[2:])\n",
    "b4=\"Hello, world\"\n",
    "print(b4[-5:-2])"
   ]
  },
  {
   "cell_type": "code",
   "execution_count": 28,
   "id": "d8b20205",
   "metadata": {},
   "outputs": [
    {
     "name": "stdout",
     "output_type": "stream",
     "text": [
      "HELLO, WORLD\n",
      "hello, world\n",
      "Hello, world\n"
     ]
    }
   ],
   "source": [
    "a=\"Hello, world\"\n",
    "print(a.upper())\n",
    "a1=\"Hello, world\"\n",
    "print(a1.lower())\n",
    "a2=\"Hello, world\"\n",
    "print(a2.strip())\n",
    "a3=\"Hello, world\"\n"
   ]
  },
  {
   "cell_type": "code",
   "execution_count": 29,
   "id": "180fb93c",
   "metadata": {},
   "outputs": [
    {
     "name": "stdout",
     "output_type": "stream",
     "text": [
      "My name is john, and I am 36\n"
     ]
    }
   ],
   "source": [
    "age=36\n",
    "txt=\"My name is john, and I am {}\"\n",
    "print(txt.format(age))"
   ]
  },
  {
   "cell_type": "code",
   "execution_count": 32,
   "id": "b9b20a4c",
   "metadata": {},
   "outputs": [
    {
     "name": "stdout",
     "output_type": "stream",
     "text": [
      "I want 3 pieces of item 567 for 49.95 dollars\n"
     ]
    }
   ],
   "source": [
    "quantity=3\n",
    "itemno= 567\n",
    "price=49.95\n",
    "myorder=\"I want {} pieces of item {} for {} dollars\"\n",
    "print(myorder.format(quantity,itemno,price))"
   ]
  },
  {
   "cell_type": "code",
   "execution_count": 34,
   "id": "1e647190",
   "metadata": {},
   "outputs": [
    {
     "name": "stdout",
     "output_type": "stream",
     "text": [
      "I want 49.95 pieces of item 3 for 567 dollars\n"
     ]
    }
   ],
   "source": [
    "quantity=3\n",
    "itemno= 567\n",
    "price=49.95\n",
    "myorder=\"I want {2} pieces of item {0} for {1} dollars\"\n",
    "print(myorder.format(quantity,itemno,price))"
   ]
  },
  {
   "cell_type": "code",
   "execution_count": 36,
   "id": "28c3b64b",
   "metadata": {},
   "outputs": [
    {
     "name": "stdout",
     "output_type": "stream",
     "text": [
      "In FunA 100 200 300 40\n",
      "In FunB 1000 2000 300 40\n",
      "In FunC 10000 2000 300 40\n",
      "In main 10 20 30 40\n"
     ]
    }
   ],
   "source": [
    "a,b,c,d=10,20,30,40\n",
    "def FunA():\n",
    "    a,b,c=100,200,300\n",
    "    print(\"In FunA\",a,b,c,d)\n",
    "    def FunB():\n",
    "        a,b=1000,2000\n",
    "        print(\"In FunB\",a,b,c,d)\n",
    "        def Func():\n",
    "            a=10000\n",
    "            print(\"In FunC\",a,b,c,d)\n",
    "        Func()\n",
    "    FunB()\n",
    "FunA()\n",
    "\n",
    "print(\"In main\",a,b,c,d)\n",
    "            "
   ]
  },
  {
   "cell_type": "code",
   "execution_count": 38,
   "id": "ae56dc55",
   "metadata": {},
   "outputs": [
    {
     "name": "stdout",
     "output_type": "stream",
     "text": [
      "[1, 2, 3, 4]\n",
      "['kiwi', 'blueberry', 'orange']\n"
     ]
    }
   ],
   "source": [
    "list1=[\"kiwi\",\"blueberry\",\"orange\"]\n",
    "list2=[1,2,3,4]\n",
    "list3=[]\n",
    "list3=list1\n",
    "list1=list2\n",
    "list2=list3\n",
    "print(list1)\n",
    "print(list2)"
   ]
  },
  {
   "cell_type": "code",
   "execution_count": 2,
   "id": "0c7ffe9d",
   "metadata": {},
   "outputs": [
    {
     "name": "stdout",
     "output_type": "stream",
     "text": [
      "Started Crawling\n",
      "The adress of child is  2997869884032\n"
     ]
    }
   ],
   "source": [
    "class infant:\n",
    "    def walk(self):\n",
    "        print(\"Started Crawling\")\n",
    "child=infant()\n",
    "child.walk()\n",
    "print(\"The adress of child is \",id(child))\n"
   ]
  },
  {
   "cell_type": "code",
   "execution_count": 5,
   "id": "1695c72a",
   "metadata": {},
   "outputs": [
    {
     "name": "stdout",
     "output_type": "stream",
     "text": [
      "Walk-Mom\n",
      "The adress of self is 2997869884800\n",
      "The adress of child is 2997869884800\n"
     ]
    }
   ],
   "source": [
    "class Mom():\n",
    "    def walk(self):\n",
    "        print(\"Walk-Mom\")\n",
    "        print(\"The adress of self is\",id(self))\n",
    "class Infant(Mom):\n",
    "    pass\n",
    "child=Infant()\n",
    "child.walk()\n",
    "print(\"The adress of child is\",id(child))"
   ]
  },
  {
   "cell_type": "code",
   "execution_count": 6,
   "id": "5d66f0fd",
   "metadata": {},
   "outputs": [
    {
     "name": "stdout",
     "output_type": "stream",
     "text": [
      "<class 'function'>\n",
      "<class 'method'>\n"
     ]
    }
   ],
   "source": [
    "class Mom():\n",
    "    def walk(self):\n",
    "        print(\"Walk-Mom\")\n",
    "        print(\"The adress of self is\",id(self))\n",
    "Mother=Mom()\n",
    "print(type(Mom.walk))\n",
    "print(type(Mother.walk))"
   ]
  },
  {
   "cell_type": "code",
   "execution_count": 8,
   "id": "2134aaf9",
   "metadata": {},
   "outputs": [
    {
     "name": "stdout",
     "output_type": "stream",
     "text": [
      "global 10 local 110\n",
      "global 10\n"
     ]
    }
   ],
   "source": [
    "gvar=10\n",
    "class Mom():\n",
    "    lvar=110\n",
    "    print(\"global\",gvar,\"local\",lvar)\n",
    "mother=Mom()\n",
    "print(\"global\",gvar)"
   ]
  },
  {
   "cell_type": "code",
   "execution_count": 13,
   "id": "ee4a9642",
   "metadata": {},
   "outputs": [
    {
     "name": "stdout",
     "output_type": "stream",
     "text": [
      "{'__module__': '__main__', '__doc__': 'this is_doc_', 'lvar': 100, '__dict__': <attribute '__dict__' of 'Mom' objects>, '__weakref__': <attribute '__weakref__' of 'Mom' objects>}\n",
      "this is_doc_\n"
     ]
    }
   ],
   "source": [
    "class Mom():\n",
    "    \"this is_doc_\"\n",
    "    lvar=100\n",
    "print(Mom.__dict__)\n",
    "print(Mom.__doc__)"
   ]
  },
  {
   "cell_type": "code",
   "execution_count": 17,
   "id": "38ee445c",
   "metadata": {},
   "outputs": [
    {
     "name": "stdout",
     "output_type": "stream",
     "text": [
      "I am Public\n",
      "I am protected\n"
     ]
    }
   ],
   "source": [
    "class Example():\n",
    "    def __init__(self):\n",
    "        self.__private=\"I am Private\"\n",
    "        self._protected=\"I am protected\"\n",
    "        self.public=\"I am Public\"\n",
    "\n",
    "ob= Example()\n",
    "print(ob.public)\n",
    "print(ob._protected)\n",
    "#print(ob.__private)"
   ]
  },
  {
   "cell_type": "code",
   "execution_count": 18,
   "id": "82f2ec03",
   "metadata": {},
   "outputs": [
    {
     "name": "stdout",
     "output_type": "stream",
     "text": [
      "Object constructed\n",
      "Object destructed\n"
     ]
    }
   ],
   "source": [
    "class Example():\n",
    "    def __init__(self):\n",
    "        print(\"Object constructed\")\n",
    "    \n",
    "    def __del__(self):\n",
    "        print(\"Object destructed\")\n",
    "        \n",
    "obj= Example()\n",
    "del(obj)"
   ]
  },
  {
   "cell_type": "code",
   "execution_count": 36,
   "id": "aa6faa2a",
   "metadata": {},
   "outputs": [
    {
     "name": "stdout",
     "output_type": "stream",
     "text": [
      "2019 4 17\n",
      "2018 15 4\n",
      "2017 11 5\n",
      "2019\n",
      "2018\n",
      "2017\n"
     ]
    }
   ],
   "source": [
    "class Date:\n",
    "    def __init__(self,day,month,year):\n",
    "        self.year=year\n",
    "        self.month=month\n",
    "        self.day=day\n",
    "        \n",
    "    @classmethod\n",
    "    def myd(cls,month,year,day):\n",
    "        cls.day=day\n",
    "        cls.month=month\n",
    "        cls.year=year\n",
    "        return cls(cls.month,cls.day,cls.year)\n",
    "    @classmethod\n",
    "    def ydm(cls,year,day,month):\n",
    "        cls.day=day\n",
    "        cls.month=month\n",
    "        cls.year=year\n",
    "        return cls(cls.month,cls.day,cls.year)\n",
    "    \n",
    "d1=Date(17,4,2019)\n",
    "print(d1.year,d1.month,d1.day)\n",
    "d2=Date.myd(4,2018,15)\n",
    "print(d2.year,d2.month,d2.day)\n",
    "d3=Date.ydm(2017,11,5)\n",
    "print(d3.year,d3.month,d3.day)\n",
    "print(d1.year)\n",
    "print(d2.year)\n",
    "print(d3.year)"
   ]
  },
  {
   "cell_type": "code",
   "execution_count": null,
   "id": "5b193902",
   "metadata": {},
   "outputs": [],
   "source": []
  },
  {
   "cell_type": "code",
   "execution_count": null,
   "id": "ca02cf4f",
   "metadata": {},
   "outputs": [],
   "source": []
  }
 ],
 "metadata": {
  "kernelspec": {
   "display_name": "Python 3 (ipykernel)",
   "language": "python",
   "name": "python3"
  },
  "language_info": {
   "codemirror_mode": {
    "name": "ipython",
    "version": 3
   },
   "file_extension": ".py",
   "mimetype": "text/x-python",
   "name": "python",
   "nbconvert_exporter": "python",
   "pygments_lexer": "ipython3",
   "version": "3.9.12"
  }
 },
 "nbformat": 4,
 "nbformat_minor": 5
}
